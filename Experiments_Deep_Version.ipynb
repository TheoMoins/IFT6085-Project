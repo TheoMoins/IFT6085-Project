{
 "cells": [
  {
   "cell_type": "code",
   "execution_count": 16,
   "metadata": {},
   "outputs": [],
   "source": [
    "import numpy as np\n",
    "import random\n",
    "from numpy.linalg import inv\n",
    "from numpy.linalg import pinv\n",
    "import matplotlib.pyplot as plt\n",
    "\n",
    "import torch\n",
    "import torch.nn as nn\n",
    "\n",
    "import copy\n",
    "import random"
   ]
  },
  {
   "cell_type": "code",
   "execution_count": 2,
   "metadata": {},
   "outputs": [],
   "source": [
    "# This part of the code implements live plotting:\n",
    "\n",
    "from IPython.display import clear_output\n",
    "from matplotlib import pyplot as plt\n",
    "import collections\n",
    "%matplotlib inline\n",
    "\n",
    "def live_plot(data_dict, title, ylabel=None, xlabel=None, figsize=(7,5)):\n",
    "    clear_output(wait=True)\n",
    "    plt.figure(figsize=figsize)\n",
    "    for label,data in data_dict.items():\n",
    "        plt.plot(data, label=label)\n",
    "    plt.title(title)\n",
    "    plt.grid(True)\n",
    "    plt.xlabel(xlabel)\n",
    "    plt.ylabel(ylabel)\n",
    "    plt.legend()\n",
    "    plt.show();"
   ]
  },
  {
   "cell_type": "code",
   "execution_count": 3,
   "metadata": {},
   "outputs": [],
   "source": [
    "# defining the graph (weighted with rewards):\n",
    "\n",
    "R = torch.IntTensor([[0,-100,-100,-100,-5,-100],\n",
    "                    [-100,0,-100,-5,-100,100],\n",
    "                    [-100,-100,0,-5,-100,-100],\n",
    "                    [-100,-5,-5,0,-5,-100],\n",
    "                    [-5,-100,-100,-5,0,100],\n",
    "                    [-100,-5,-100,-100,-5,100]])\n",
    "\n",
    "NumbertoSAPair = torch.IntTensor([[0, 0],[0,4],[1,1],[1,3],[1,5],\n",
    "                               [2,2],[2,3],[3,1],[3,2],[3,3],\n",
    "                               [3,4],[4,0],[4,3],[4,4],[4,5],\n",
    "                               [5,1],[5,4],[5,5]])\n",
    "\n",
    "AlenVec = torch.IntTensor([2,3,2,4,4,3])\n",
    "\n",
    "# Inverse mapping: Given state-action pair, what is the curresponding number:\n",
    "SAPairtoNumber = -1*torch.ones((6,6))\n",
    "\n",
    "for i in range(len(NumbertoSAPair)):\n",
    "    i1 = NumbertoSAPair[i,0].item()\n",
    "    i2 = NumbertoSAPair[i,1].item()\n",
    "    SAPairtoNumber[i1,i2]=i\n",
    "    \n",
    "StaActLen = torch.sum(AlenVec).item(); # Total number of state action pairs"
   ]
  },
  {
   "cell_type": "code",
   "execution_count": 4,
   "metadata": {},
   "outputs": [],
   "source": [
    "def compute_Bellman_error(q_table, beta, noise):\n",
    "\n",
    "    #Initialize Bellman error to 0:\n",
    "    BE = torch.zeros(StaActLen) # initialiser BE_Zap avec des 0\n",
    "    \n",
    "    for jj in range(StaActLen): # pour tous les state-action possibles\n",
    "\n",
    "        x = NumbertoSAPair[jj,0] # x = state\n",
    "        a = NumbertoSAPair[jj,1] # a = action\n",
    "\n",
    "        # Calculate E[max_u Q(X_{t+1},u) | X_t=x, A_t = a]:\n",
    "        max_Qfun_xtp1_Zap = 0; # max_Qfun_xtp1_Zap initialisé à 0\n",
    "        NumOfXtp1 = 0; # NumOfXtp1 initialisé à 0\n",
    "        for ll in range(StaActLen): # pour tous les state-action possibles l\n",
    "            if(NumbertoSAPair[ll,0] == x): # si l part de x\n",
    "                xplus1 = NumbertoSAPair[ll,1] # xplus1 prend action\n",
    "                max_Qfun_xtp1_Zap = max_Qfun_xtp1_Zap + torch.max(q_table[xplus1]) # max_Qfun_xtp1_Zap += max q_table à partir de action\n",
    "                NumOfXtp1 = NumOfXtp1 + 1 # NumOfXtp1++\n",
    "        max_Qfun_xtp1_Zap = max_Qfun_xtp1_Zap/NumOfXtp1 # max_Qfun_xtp1_Zap /= NumOfXtp1 (ie on prend l'average de toutes les greedy policies à partir de x)\n",
    "\n",
    "        # BE(x,a) = R(x,a) + beta*E[max_u Q(X_{t+1},u) | X_t=x, A_t = a] - Q(x,a)\n",
    "        BE[jj] = R[x,a] + beta*((1-noise)*torch.max(q_table[a]) +  noise*max_Qfun_xtp1_Zap) - q_table[x,a]\n",
    "\n",
    "    # MaximalBellmanError = max_{x,a} BE(x,a):  \n",
    "    return torch.max(abs(BE))"
   ]
  },
  {
   "cell_type": "code",
   "execution_count": 5,
   "metadata": {},
   "outputs": [],
   "source": [
    "import math\n",
    "\n",
    "def epsilon_greedy_policy(x, adjacencyMatrix, QTable, epsilon=0, environmentAwareness=False):\n",
    "    \"\"\"\n",
    "    Returns action a (:= next wanted step in this problem)\n",
    "    Takes greedy action with proba 1-epsilon\n",
    "    adjacencyMatrix is the weighted reward matrix with -100 where no edges\n",
    "    it will not be taken into account if environmentAwareness=False (then agent can choose -100 edges)\n",
    "    \"\"\"\n",
    "    r = np.random.rand()\n",
    "    if not environmentAwareness:\n",
    "        if r > epsilon:\n",
    "            return torch.argmax(QTable[x])\n",
    "        else:\n",
    "            return np.random.choice(range(QTable[x].shape[0]))\n",
    "    else:\n",
    "        if r > epsilon:\n",
    "            imax = -1\n",
    "            Qmax = -1 * math.inf\n",
    "            for i in range(QTable[x].shape[0]):\n",
    "                if adjacencyMatrix[x][i] > -100 and QTable[x][i] > Qmax:\n",
    "                    imax = i\n",
    "                    Qmax = QTable[x][i]\n",
    "            assert imax > -1, \"Error : no possible action\"\n",
    "            return imax\n",
    "        \n",
    "        else:\n",
    "            available = []\n",
    "            for i in range(adjacencyMatrix[x].shape[0]):\n",
    "                if adjacencyMatrix[x][i] > -100:\n",
    "                    available.append(i)\n",
    "            assert not len(available) == 0, \"Error : no possible action\"\n",
    "            return np.random.choice(available)"
   ]
  },
  {
   "cell_type": "code",
   "execution_count": 6,
   "metadata": {},
   "outputs": [],
   "source": [
    "def take_action(x, a, adjacencyMatrix, environmentAwareness=True, randomness=0.5):\n",
    "    \"\"\"\n",
    "    Environment response to the action a from state x, returns: newState, reward\n",
    "    when environmentAwareness=True, only possible actions will be randomly taken in case of random failure\n",
    "    \"\"\"\n",
    "    r = np.random.rand()\n",
    "    if not environmentAwareness:\n",
    "        if r > randomness:\n",
    "            return a, adjacencyMatrix[x][a]\n",
    "        else:\n",
    "            aa = np.random.choice(range(adjacencyMatrix[x].shape[0]))\n",
    "            return aa, adjacencyMatrix[x][aa]\n",
    "    else:\n",
    "        available = []\n",
    "        for i in range(adjacencyMatrix[x].shape[0]):\n",
    "            if adjacencyMatrix[x][i] > -100:\n",
    "                available.append(i)\n",
    "        assert not len(available) == 0, \"Error : no possible action\"\n",
    "        if r > randomness:\n",
    "            assert a in available, \"Error : the action in not possible\"\n",
    "            return a, adjacencyMatrix[x][a]\n",
    "        else:\n",
    "            aa = np.random.choice(available)\n",
    "            return aa, adjacencyMatrix[x][aa]"
   ]
  },
  {
   "cell_type": "code",
   "execution_count": 517,
   "metadata": {},
   "outputs": [],
   "source": [
    "class Q_function(nn.Module):\n",
    "    def __init__(self):\n",
    "        super(Q_function, self).__init__()\n",
    "        self.fc = nn.Sequential(\n",
    "            nn.Linear(StaActLen, 32),\n",
    "            nn.ReLU(),\n",
    "            nn.Linear(32, 32),\n",
    "            nn.ReLU(),\n",
    "            nn.Linear(32, 1)\n",
    "        )\n",
    "        \n",
    "    def init_weights(self):\n",
    "        nn.init.constant(self.fc.weight, 0)\n",
    "    \n",
    "    def num_params(self):\n",
    "        return sum(p.numel() for p in self.parameters())\n",
    "        \n",
    "    def evaluate(self, x):\n",
    "        with torch.no_grad():\n",
    "            return self.fc(x)\n",
    "        \n",
    "    def forward(self, x):\n",
    "        return self.fc(x)\n",
    "    \n",
    "    def update_A_hat(self, A_hat, gammat, psixtat, psixtp1_OptAct, beta):\n",
    "        giga_tensor = torch.Tensor()\n",
    "        for f in self.parameters():\n",
    "            self.zero_grad()\n",
    "            forward1 = self.forward(psixtat)\n",
    "            forward1.backward()\n",
    "            grad1 = copy.deepcopy(f.grad)\n",
    "            \n",
    "            self.zero_grad()\n",
    "            forward2 = self.forward(psixtp1_OptAct)\n",
    "            forward2.backward()\n",
    "            grad2 = copy.deepcopy(f.grad)\n",
    "\n",
    "            giga_tensor = torch.cat((giga_tensor, (-grad1 + beta*grad2).view(-1)))\n",
    "        \n",
    "        A = torch.ger(psixtat, giga_tensor)\n",
    "        \n",
    "        A_hat = A_hat + gammat*(A - A_hat)\n",
    "\n",
    "        return A_hat\n",
    "\n",
    "    def update_parameters(self, A_hat, psixtat, alphat, dt):\n",
    "        Ainv_ZapQ = torch.Tensor(np.linalg.pinv(A_hat.detach().numpy()))\n",
    "        big_vector = alphat*(Ainv_ZapQ @ psixtat)*dt\n",
    "        id = 0\n",
    "        for f in self.parameters():\n",
    "#             print(\"WEIGHTS :\")\n",
    "#             print(f.data)\n",
    "            f.data = f.data - big_vector[id : id + f.data.numel()].view(f.data.shape)\n",
    "#             print(\"UPDATE WEIGHTS :\")\n",
    "#             print(f.data)\n",
    "            id += f.data.numel()\n",
    "    "
   ]
  },
  {
   "cell_type": "code",
   "execution_count": 518,
   "metadata": {},
   "outputs": [],
   "source": [
    "# Zap Q algorithm:\n",
    "def Zap_Q(xStart = 4, # start state\n",
    "          beta = 0.8, # Discount factor\n",
    "          rho = 0.85, # Stepsize \\gamma_n = (1/n)^\\rhot_step=1000\n",
    "          policyEnvironmentAwareness=True, # policy won't take impossible actions if True\n",
    "          environmentEnvironmentAwareness=True, # environment will only return possible actions in case of failure if True\n",
    "          policyRandomness=1,\n",
    "          environmentRandomness=0.2,\n",
    "          T=100000, # Number of iterations for learning (number of data samples we observe)\n",
    "          t_step=1000, #This is how often I want to store the data (Bellman error)\n",
    "          livePlot=True,\n",
    "          plotTitle=None):\n",
    "    \"\"\"\n",
    "    /!\\: Not self-contained, will only work with R for now\n",
    "    Plots every t_step iteration, on the go if livePlot=True (alterates wall-clock performance)\n",
    "    policyRandomness : epsilon of epsilon greedy policy\n",
    "    environmentRandomness : noise of environment (proba of going to a random state)\n",
    "    \"\"\"\n",
    "    \n",
    "    dataplot = collections.defaultdict(list) # history of Bellman Errors to plot\n",
    "    xt = xStart; # start in state 0\n",
    "    noise = environmentRandomness\n",
    "    \n",
    "    Q = Q_function()\n",
    "    \n",
    "    # Initialize the Matrix gain for Zap Q:\n",
    "    A_ZapQ = 10*torch.eye(StaActLen, Q.num_params())\n",
    "    \n",
    "    # Initialize the parameter vector for Zap Q:\n",
    "    #Qthetat_ZapQ = torch.rand(StaActLen);\n",
    "\n",
    "    # Initialize the Q function for Zap Q:\n",
    "    Qfun_ZapQ = torch.zeros((6,6))\n",
    "\n",
    "    # Q-learning begins here:\n",
    "\n",
    "    for t in range(T):\n",
    "        \n",
    "        if policyRandomness < 0:\n",
    "            epsilon = 1./(t+1)\n",
    "        else:\n",
    "            epsilon = policyRandomness\n",
    "        # ChooseAction will return the random action chosen in the current state AND the next state\n",
    "        #xtp1at_m = ChooseAction(xt,noise,Qfun_ZapQ)\n",
    "        at = epsilon_greedy_policy(xt,\n",
    "                                   R,\n",
    "                                   Qfun_ZapQ,\n",
    "                                   epsilon=epsilon,\n",
    "                                   environmentAwareness=policyEnvironmentAwareness)\n",
    "        xtp1, _ = take_action(xt,\n",
    "                              at,\n",
    "                              R,\n",
    "                              environmentAwareness=environmentEnvironmentAwareness,\n",
    "                              randomness=environmentRandomness)\n",
    "\n",
    "\n",
    "        # Defining the stepsizes:\n",
    "        alphat = 1./(t+2); # stepsize for parameter recursion\n",
    "        gammat = np.power((t+1),-rho) # stepsize for matrix gain recursion\n",
    "\n",
    "        num_sa_pair = int(SAPairtoNumber[xt][at]) # Mapping [S A] -> the curresponding number\n",
    "\n",
    "        # Watkins' basis: Column vector with 1 at (x,a) and 0 elsewhere:\n",
    "        psixtat = torch.zeros(StaActLen)\n",
    "        psixtat[num_sa_pair] = 1 # Basis are indicator functions\n",
    "\n",
    "        # Watkins' basis evaluated at next state and the optimal policy:\n",
    "        # Step 1: It takes values 1 at state-action pairs corresponding to xtp1, and all feasible actions\n",
    "        Qxtp1_Zap = torch.zeros(StaActLen)\n",
    "        for jj in range(6):\n",
    "            if SAPairtoNumber[xtp1,jj]>=0: # Is the action feasible?\n",
    "                psixtp1 = torch.zeros(StaActLen)\n",
    "                ind = int(SAPairtoNumber[xtp1,jj])\n",
    "                psixtp1[ind] = 1 # Take value 1\n",
    "                Qxtp1_Zap[ind] = Q.evaluate(psixtp1)\n",
    "\n",
    "        # Zap Q-learning step:\n",
    "\n",
    "        # Q(X_t,A_t):\n",
    "        Qxt_Zap = Q.evaluate(psixtat)\n",
    "        #Qxt_Zap = torch.dot(Qthetat_ZapQ,psixtat)\n",
    "\n",
    "        # Q(X_t+1,a) with all feasible a's; Need to take minimum over all 'a' later:\n",
    "\n",
    "        # Optimal action for state xtp1, given the current parameter estimate:\n",
    "        OptAct_xtp1 = torch.argmax(Qxtp1_Zap)\n",
    "        # Q-value at xtp1 and the optimal action:\n",
    "        # max_Qxtp1_Zap = torch.max(Qxtp1_Zap)\n",
    "\n",
    "        # Basis function evaluated at xtp1 and the corresponding optimal action\n",
    "        psixtp1_OptAct = torch.zeros(StaActLen);\n",
    "        psixtp1_OptAct[OptAct_xtp1] = 1;\n",
    "        \n",
    "        max_Qxtp1_Zap = Q.evaluate(psixtp1_OptAct)\n",
    "\n",
    "        # Zap Q-learning begins here:\n",
    "\n",
    "        # Estimating the A(\\theta_t) matrix:\n",
    "        psixtat.requires_grad = True\n",
    "        psixtp1_OptAct.requires_grad = True\n",
    "        \n",
    "        A_ZapQ = Q.update_A_hat(A_ZapQ, gammat, psixtat, psixtp1_OptAct, beta)\n",
    "        \n",
    "\n",
    "        # Q update for SNR 2 (a) gain:\n",
    "        \n",
    "        dt = R[xt,at] + beta*max_Qxtp1_Zap - Qxt_Zap\n",
    "        Q.update_parameters(A_ZapQ, psixtat, alphat, dt)\n",
    "        \n",
    "        #Q.state_dict() =  Q.state_dict()  - alphat*(Ainv_ZapQ @ psixtat)*((R[xt,at] + beta*max_Qxtp1_Zap - Qxt_Zap))\n",
    "        #tmp = tmp - alphat*(Ainv_ZapQ @ psixtat)*((R[xt,at] + beta*max_Qxtp1_Zap - Qxt_Zap))\n",
    "\n",
    "        # Zap Q-learning ends here\n",
    "\n",
    "\n",
    "\n",
    "        xt = xtp1;\n",
    "\n",
    "        # The code from here is to calculate the Bellman error at this iteration\n",
    "\n",
    "        if((t%t_step)==0):\n",
    "            for jj in range(StaActLen):\n",
    "                psixtat = torch.zeros(StaActLen)\n",
    "                psixtat[jj] = 1\n",
    "                Qfun_ZapQ[NumbertoSAPair[jj,0],NumbertoSAPair[jj,1]] = Q.evaluate(psixtat)\n",
    "            # MaximalBellmanError = max_{x,a} BE(x,a):\n",
    "            # print(Qfun_ZapQ)\n",
    "            dataplot['Zap_Q'].append(compute_Bellman_error(Qfun_ZapQ, beta, noise))\n",
    "            if livePlot:\n",
    "                live_plot(dataplot, title=plotTitle, ylabel='Bellman error', xlabel='t')\n",
    "\n",
    "            # End of calculating Bellman Error\n",
    "    if not livePlot:\n",
    "        live_plot(dataplot, title=plotTitle, ylabel='Bellman error', xlabel='t')\n",
    "    return Qfun_ZapQ"
   ]
  },
  {
   "cell_type": "code",
   "execution_count": 519,
   "metadata": {},
   "outputs": [
    {
     "data": {
      "image/png": "[encoded data removed]",
      "text/plain": [
       "<Figure size 504x360 with 1 Axes>"
      ]
     },
     "metadata": {
      "needs_background": "light"
     },
     "output_type": "display_data"
    },
    {
     "name": "stdout",
     "output_type": "stream",
     "text": [
      "tensor([[309.2089,   0.0000,   0.0000,   0.0000, 374.6497,   0.0000],\n",
      "        [  0.0000, 375.6976,   0.0000, 303.0224,   0.0000, 478.8085],\n",
      "        [  0.0000,   0.0000, 235.3312, 286.3682,   0.0000,   0.0000],\n",
      "        [  0.0000, 368.3098, 242.9954, 305.4087, 372.8086,   0.0000],\n",
      "        [304.4290,   0.0000,   0.0000, 300.4796, 378.0492, 486.0834],\n",
      "        [  0.0000, 379.9584,   0.0000,   0.0000, 382.7130, 490.6148]])\n"
     ]
    }
   ],
   "source": [
    "Q = Zap_Q(xStart = 4, # start state\n",
    "          beta = 0.8, # Discount factor\n",
    "          rho = 0.85, # Stepsize \\gamma_n = (1/n)^\\rhot_step=1000\n",
    "          policyEnvironmentAwareness=True, # policy won't take impossible actions if True\n",
    "          environmentEnvironmentAwareness=True, # environment will only return possible actions in case of failure if True\n",
    "          policyRandomness=1,\n",
    "          environmentRandomness=0.2,\n",
    "          T=5000, # Number of iterations for learning (number of data samples we observe)\n",
    "          t_step=100, #This is how often I want to store the data (Bellman error)\n",
    "          livePlot = True,\n",
    "          plotTitle='Zap-Q with fully randomized policy')\n",
    "\n",
    "print(Q)"
   ]
  },
  {
   "cell_type": "code",
   "execution_count": 511,
   "metadata": {},
   "outputs": [
    {
     "data": {
      "image/png": "[encoded data removed]",
      "text/plain": [
       "<Figure size 504x360 with 1 Axes>"
      ]
     },
     "metadata": {
      "needs_background": "light"
     },
     "output_type": "display_data"
    },
    {
     "name": "stdout",
     "output_type": "stream",
     "text": [
      "tensor([[148.9499,   0.0000,   0.0000,   0.0000, 189.3311,   0.0000],\n",
      "        [  0.0000, 283.5586,   0.0000, 182.9939,   0.0000, 351.9490],\n",
      "        [  0.0000,   0.0000, 136.7108, 201.7180,   0.0000,   0.0000],\n",
      "        [  0.0000, 178.2336, 173.0916, 155.6979, 326.8702,   0.0000],\n",
      "        [143.5823,   0.0000,   0.0000, 301.0722, 226.4694, 357.8990],\n",
      "        [  0.0000, 151.4387,   0.0000,   0.0000, 352.9048, 350.8457]])\n"
     ]
    }
   ],
   "source": [
    "Q = Zap_Q(xStart = 4, # start state\n",
    "          beta = 0.8, # Discount factor\n",
    "          rho = 0.85, # Stepsize \\gamma_n = (1/n)^\\rhot_step=1000\n",
    "          policyEnvironmentAwareness=True, # policy won't take impossible actions if True\n",
    "          environmentEnvironmentAwareness=True, # environment will only return possible actions in case of failure if True\n",
    "          policyRandomness=0.5,\n",
    "          environmentRandomness=0.2,\n",
    "          T=5000, # Number of iterations for learning (number of data samples we observe)\n",
    "          t_step=100, #This is how often I want to store the data (Bellman error)\n",
    "          livePlot=True,\n",
    "          plotTitle='Zap-Q with 0.5-greedy policy')\n",
    "\n",
    "print(Q)"
   ]
  },
  {
   "cell_type": "code",
   "execution_count": 11,
   "metadata": {},
   "outputs": [
    {
     "data": {
      "image/png": "[encoded data removed]",
      "text/plain": [
       "<Figure size 504x360 with 1 Axes>"
      ]
     },
     "metadata": {
      "needs_background": "light"
     },
     "output_type": "display_data"
    },
    {
     "name": "stdout",
     "output_type": "stream",
     "text": [
      "tensor([[316.0599,   0.0000,   0.0000,   0.0000, 377.2546,   0.0000],\n",
      "        [  0.0000, 383.0108,   0.0000, 305.1011,   0.0000, 489.2355],\n",
      "        [  0.0000,   0.0000, 208.8543, 285.8795,   0.0000,   0.0000],\n",
      "        [  0.0000, 366.1029, 260.3257, 306.4659, 371.7315,   0.0000],\n",
      "        [302.9936,   0.0000,   0.0000, 300.7299, 383.5936, 486.8291],\n",
      "        [  0.0000, 385.4371,   0.0000,   0.0000, 384.9230, 495.7785]])\n"
     ]
    }
   ],
   "source": [
    "Q = Zap_Q(xStart = 4, # start state\n",
    "          beta = 0.8, # Discount factor\n",
    "          rho = 0.85, # Stepsize \\gamma_n = (1/n)^\\rhot_step=1000\n",
    "          policyEnvironmentAwareness=True, # policy won't take impossible actions if True\n",
    "          environmentEnvironmentAwareness=True, # environment will only return possible actions in case of failure if True\n",
    "          policyRandomness=0.1,\n",
    "          environmentRandomness=0.2,\n",
    "          T=5000, # Number of iterations for learning (number of data samples we observe)\n",
    "          t_step=100, #This is how often I want to store the data (Bellman error)\n",
    "          livePlot=True,\n",
    "          plotTitle='Zap-Q with 0.9-greedy policy')\n",
    "\n",
    "print(Q)"
   ]
  },
  {
   "cell_type": "code",
   "execution_count": 516,
   "metadata": {},
   "outputs": [
    {
     "data": {
      "image/png": "[encoded data removed]",
      "text/plain": [
       "<Figure size 504x360 with 1 Axes>"
      ]
     },
     "metadata": {
      "needs_background": "light"
     },
     "output_type": "display_data"
    },
    {
     "name": "stdout",
     "output_type": "stream",
     "text": [
      "tensor([[-0.3286,  0.0000,  0.0000,  0.0000, -0.3286,  0.0000],\n",
      "        [ 0.0000, -0.3286,  0.0000, -0.3286,  0.0000, -0.3286],\n",
      "        [ 0.0000,  0.0000, -0.3286, -0.3286,  0.0000,  0.0000],\n",
      "        [ 0.0000, -0.3286, -0.3286, -0.3286, -0.3286,  0.0000],\n",
      "        [-0.3286,  0.0000,  0.0000, -0.3286, -0.3286, -0.3286],\n",
      "        [ 0.0000, -0.3286,  0.0000,  0.0000, -0.3286, -0.3286]])\n"
     ]
    }
   ],
   "source": [
    "Q = Zap_Q(xStart = 4, # start state\n",
    "          beta = 0.8, # Discount factor\n",
    "          rho = 0.85, # Stepsize \\gamma_n = (1/n)^\\rhot_step=1000\n",
    "          policyEnvironmentAwareness=True, # policy won't take impossible actions if True\n",
    "          environmentEnvironmentAwareness=True, # environment will only return possible actions in case of failure if True\n",
    "          policyRandomness=0,\n",
    "          environmentRandomness=0.2,\n",
    "          T=5000, # Number of iterations for learning (number of data samples we observe)\n",
    "          t_step=100, #This is how often I want to store the data (Bellman error)\n",
    "          livePlot=True,\n",
    "          plotTitle='Zap-Q with full greedy policy')\n",
    "\n",
    "print(Q)"
   ]
  },
  {
   "cell_type": "code",
   "execution_count": 13,
   "metadata": {},
   "outputs": [
    {
     "data": {
      "image/png": "[encoded data removed]",
      "text/plain": [
       "<Figure size 504x360 with 1 Axes>"
      ]
     },
     "metadata": {
      "needs_background": "light"
     },
     "output_type": "display_data"
    },
    {
     "name": "stdout",
     "output_type": "stream",
     "text": [
      "tensor([[ 4.9313e-01,  0.0000e+00,  0.0000e+00,  0.0000e+00,  3.7157e+02,\n",
      "          0.0000e+00],\n",
      "        [ 0.0000e+00,  3.7440e+02,  0.0000e+00,  1.6631e+02,  0.0000e+00,\n",
      "          4.8910e+02],\n",
      "        [ 0.0000e+00,  0.0000e+00,  5.4810e-01,  2.7608e+02,  0.0000e+00,\n",
      "          0.0000e+00],\n",
      "        [ 0.0000e+00,  3.5105e+02,  6.5072e-01,  7.8533e-01,  3.7027e+02,\n",
      "          0.0000e+00],\n",
      "        [ 5.1703e-01,  0.0000e+00,  0.0000e+00,  2.4226e-01,  6.4063e-01,\n",
      "          4.8667e+02],\n",
      "        [ 0.0000e+00,  3.8767e+02,  0.0000e+00,  0.0000e+00, -7.2091e+00,\n",
      "          4.9586e+02]])\n"
     ]
    }
   ],
   "source": [
    "Q = Zap_Q(xStart = 4, # start state\n",
    "          beta = 0.8, # Discount factor\n",
    "          rho = 0.85, # Stepsize \\gamma_n = (1/n)^\\rhot_step=1000\n",
    "          policyEnvironmentAwareness=True, # policy won't take impossible actions if True\n",
    "          environmentEnvironmentAwareness=True, # environment will only return possible actions in case of failure if True\n",
    "          policyRandomness=-1,\n",
    "          environmentRandomness=0.2,\n",
    "          T=100000, # Number of iterations for learning (number of data samples we observe)\n",
    "          t_step=1000, #This is how often I want to store the data (Bellman error)\n",
    "          livePlot=True,\n",
    "          plotTitle='Zap-Q with 1/t greedy policy')\n",
    "\n",
    "print(Q)"
   ]
  },
  {
   "cell_type": "code",
   "execution_count": 14,
   "metadata": {},
   "outputs": [],
   "source": [
    "# vanilla Q learning :\n",
    "\n",
    "def vanilla_Q_learning(livePlot=True,\n",
    "                       initial_lr = 1.0,\n",
    "                       min_lr = 0.003,\n",
    "                       gamma = 0.8,\n",
    "                       t_max = 100000,\n",
    "                       iter_max = 10,\n",
    "                       policyRandomness = 0,\n",
    "                       policyEnvironmentAwareness = True,\n",
    "                       environmentEnvironmentAwareness = True,\n",
    "                       environmentRandomness = 0.2,\n",
    "                       seed=0,\n",
    "                       plotTitle=None):\n",
    "    np.random.seed(seed)\n",
    "    BE = np.zeros((6,6))\n",
    "    xt1 = 4\n",
    "    dataplot = collections.defaultdict(list)\n",
    "    #print ('----- using Q Learning -----')\n",
    "    q_table = np.zeros((6,6))\n",
    "    for i in range(iter_max):\n",
    "        obs = xt1\n",
    "        total_reward = 0\n",
    "        ## alpha: learning rate is decreased at each step\n",
    "        alpha = max(min_lr, initial_lr * (0.85 ** (i//100)))\n",
    "        for j in range(t_max):\n",
    "            xt0 = xt1\n",
    "            action = epsilon_greedy_policy(xt0,\n",
    "                                   R,\n",
    "                                   q_table,\n",
    "                                   epsilon=policyRandomness,\n",
    "                                   environmentAwareness=policyEnvironmentAwareness)\n",
    "            xt1, reward = take_action(xt0,\n",
    "                                  action,\n",
    "                                  R,\n",
    "                                  environmentAwareness=environmentEnvironmentAwareness,\n",
    "                                  randomness=environmentRandomness)\n",
    "            total_reward += (gamma ** j) * reward\n",
    "            # update q table\n",
    "            q_table[xt0][action] = q_table[xt0][action] + alpha * (reward + gamma *  np.max(q_table[xt1]) - q_table[xt0][action])\n",
    "        #print('Iteration #%d -- Total reward = %d.' %(i+1, total_reward))\n",
    "            if j%10000 == 0:\n",
    "                #print(compute_Bellman_error(q_table, gamma, environmentRandomness))\n",
    "                dataplot['Vanilla_Q'].append(compute_Bellman_error(q_table, gamma, environmentRandomness))\n",
    "                if livePlot:\n",
    "                    live_plot(dataplot, title=plotTitle, ylabel='Bellman error', xlabel='t')\n",
    "    #solution_policy = np.argmax(q_table, axis=1)\n",
    "    return q_table\n",
    "    #solution_policy_scores = [run_episode(env, solution_policy, False) for _ in range(100)]\n",
    "    #print(\"Average score of solution = \", np.mean(solution_policy_scores))\n",
    "    # Animate it\n",
    "    #run_episode(env, solution_policy, True)"
   ]
  },
  {
   "cell_type": "code",
   "execution_count": 15,
   "metadata": {},
   "outputs": [
    {
     "ename": "TypeError",
     "evalue": "max(): argument 'input' (position 1) must be Tensor, not numpy.ndarray",
     "output_type": "error",
     "traceback": [
      "\u001b[1;31m---------------------------------------------------------------------------\u001b[0m",
      "\u001b[1;31mTypeError\u001b[0m                                 Traceback (most recent call last)",
      "\u001b[1;32m<ipython-input-15-e968cda49f66>\u001b[0m in \u001b[0;36m<module>\u001b[1;34m\u001b[0m\n\u001b[0;32m      9\u001b[0m                        \u001b[0menvironmentEnvironmentAwareness\u001b[0m \u001b[1;33m=\u001b[0m \u001b[1;32mTrue\u001b[0m\u001b[1;33m,\u001b[0m\u001b[1;33m\u001b[0m\u001b[1;33m\u001b[0m\u001b[0m\n\u001b[0;32m     10\u001b[0m                        \u001b[0menvironmentRandomness\u001b[0m \u001b[1;33m=\u001b[0m \u001b[1;36m0.2\u001b[0m\u001b[1;33m,\u001b[0m\u001b[1;33m\u001b[0m\u001b[1;33m\u001b[0m\u001b[0m\n\u001b[1;32m---> 11\u001b[1;33m                        plotTitle='Vanilla Q Learning - random policy')\n\u001b[0m\u001b[0;32m     12\u001b[0m \u001b[1;33m\u001b[0m\u001b[0m\n\u001b[0;32m     13\u001b[0m \u001b[0mprint\u001b[0m\u001b[1;33m(\u001b[0m\u001b[0mq_table\u001b[0m\u001b[1;33m)\u001b[0m\u001b[1;33m\u001b[0m\u001b[1;33m\u001b[0m\u001b[0m\n",
      "\u001b[1;32m<ipython-input-14-abf72f905264>\u001b[0m in \u001b[0;36mvanilla_Q_learning\u001b[1;34m(livePlot, initial_lr, min_lr, gamma, t_max, iter_max, policyRandomness, policyEnvironmentAwareness, environmentEnvironmentAwareness, environmentRandomness, seed, plotTitle)\u001b[0m\n\u001b[0;32m     42\u001b[0m             \u001b[1;32mif\u001b[0m \u001b[0mj\u001b[0m\u001b[1;33m%\u001b[0m\u001b[1;36m10000\u001b[0m \u001b[1;33m==\u001b[0m \u001b[1;36m0\u001b[0m\u001b[1;33m:\u001b[0m\u001b[1;33m\u001b[0m\u001b[1;33m\u001b[0m\u001b[0m\n\u001b[0;32m     43\u001b[0m                 \u001b[1;31m#print(compute_Bellman_error(q_table, gamma, environmentRandomness))\u001b[0m\u001b[1;33m\u001b[0m\u001b[1;33m\u001b[0m\u001b[1;33m\u001b[0m\u001b[0m\n\u001b[1;32m---> 44\u001b[1;33m                 \u001b[0mdataplot\u001b[0m\u001b[1;33m[\u001b[0m\u001b[1;34m'Vanilla_Q'\u001b[0m\u001b[1;33m]\u001b[0m\u001b[1;33m.\u001b[0m\u001b[0mappend\u001b[0m\u001b[1;33m(\u001b[0m\u001b[0mcompute_Bellman_error\u001b[0m\u001b[1;33m(\u001b[0m\u001b[0mq_table\u001b[0m\u001b[1;33m,\u001b[0m \u001b[0mgamma\u001b[0m\u001b[1;33m,\u001b[0m \u001b[0menvironmentRandomness\u001b[0m\u001b[1;33m)\u001b[0m\u001b[1;33m)\u001b[0m\u001b[1;33m\u001b[0m\u001b[1;33m\u001b[0m\u001b[0m\n\u001b[0m\u001b[0;32m     45\u001b[0m                 \u001b[1;32mif\u001b[0m \u001b[0mlivePlot\u001b[0m\u001b[1;33m:\u001b[0m\u001b[1;33m\u001b[0m\u001b[1;33m\u001b[0m\u001b[0m\n\u001b[0;32m     46\u001b[0m                     \u001b[0mlive_plot\u001b[0m\u001b[1;33m(\u001b[0m\u001b[0mdataplot\u001b[0m\u001b[1;33m,\u001b[0m \u001b[0mtitle\u001b[0m\u001b[1;33m=\u001b[0m\u001b[0mplotTitle\u001b[0m\u001b[1;33m,\u001b[0m \u001b[0mylabel\u001b[0m\u001b[1;33m=\u001b[0m\u001b[1;34m'Bellman error'\u001b[0m\u001b[1;33m,\u001b[0m \u001b[0mxlabel\u001b[0m\u001b[1;33m=\u001b[0m\u001b[1;34m't'\u001b[0m\u001b[1;33m)\u001b[0m\u001b[1;33m\u001b[0m\u001b[1;33m\u001b[0m\u001b[0m\n",
      "\u001b[1;32m<ipython-input-4-f4bb491ca9b3>\u001b[0m in \u001b[0;36mcompute_Bellman_error\u001b[1;34m(q_table, beta, noise)\u001b[0m\n\u001b[0;32m     15\u001b[0m             \u001b[1;32mif\u001b[0m\u001b[1;33m(\u001b[0m\u001b[0mNumbertoSAPair\u001b[0m\u001b[1;33m[\u001b[0m\u001b[0mll\u001b[0m\u001b[1;33m,\u001b[0m\u001b[1;36m0\u001b[0m\u001b[1;33m]\u001b[0m \u001b[1;33m==\u001b[0m \u001b[0mx\u001b[0m\u001b[1;33m)\u001b[0m\u001b[1;33m:\u001b[0m \u001b[1;31m# si l part de x\u001b[0m\u001b[1;33m\u001b[0m\u001b[1;33m\u001b[0m\u001b[0m\n\u001b[0;32m     16\u001b[0m                 \u001b[0mxplus1\u001b[0m \u001b[1;33m=\u001b[0m \u001b[0mNumbertoSAPair\u001b[0m\u001b[1;33m[\u001b[0m\u001b[0mll\u001b[0m\u001b[1;33m,\u001b[0m\u001b[1;36m1\u001b[0m\u001b[1;33m]\u001b[0m \u001b[1;31m# xplus1 prend action\u001b[0m\u001b[1;33m\u001b[0m\u001b[1;33m\u001b[0m\u001b[0m\n\u001b[1;32m---> 17\u001b[1;33m                 \u001b[0mmax_Qfun_xtp1_Zap\u001b[0m \u001b[1;33m=\u001b[0m \u001b[0mmax_Qfun_xtp1_Zap\u001b[0m \u001b[1;33m+\u001b[0m \u001b[0mtorch\u001b[0m\u001b[1;33m.\u001b[0m\u001b[0mmax\u001b[0m\u001b[1;33m(\u001b[0m\u001b[0mq_table\u001b[0m\u001b[1;33m[\u001b[0m\u001b[0mxplus1\u001b[0m\u001b[1;33m]\u001b[0m\u001b[1;33m)\u001b[0m \u001b[1;31m# max_Qfun_xtp1_Zap += max q_table à partir de action\u001b[0m\u001b[1;33m\u001b[0m\u001b[1;33m\u001b[0m\u001b[0m\n\u001b[0m\u001b[0;32m     18\u001b[0m                 \u001b[0mNumOfXtp1\u001b[0m \u001b[1;33m=\u001b[0m \u001b[0mNumOfXtp1\u001b[0m \u001b[1;33m+\u001b[0m \u001b[1;36m1\u001b[0m \u001b[1;31m# NumOfXtp1++\u001b[0m\u001b[1;33m\u001b[0m\u001b[1;33m\u001b[0m\u001b[0m\n\u001b[0;32m     19\u001b[0m         \u001b[0mmax_Qfun_xtp1_Zap\u001b[0m \u001b[1;33m=\u001b[0m \u001b[0mmax_Qfun_xtp1_Zap\u001b[0m\u001b[1;33m/\u001b[0m\u001b[0mNumOfXtp1\u001b[0m \u001b[1;31m# max_Qfun_xtp1_Zap /= NumOfXtp1 (ie on prend l'average de toutes les greedy policies à partir de x)\u001b[0m\u001b[1;33m\u001b[0m\u001b[1;33m\u001b[0m\u001b[0m\n",
      "\u001b[1;31mTypeError\u001b[0m: max(): argument 'input' (position 1) must be Tensor, not numpy.ndarray"
     ]
    }
   ],
   "source": [
    "q_table = vanilla_Q_learning(livePlot=True,\n",
    "                       initial_lr = 1.0,\n",
    "                       min_lr = 0.003,\n",
    "                       gamma = 0.8,\n",
    "                       t_max = 1000000, # one million iterations instead of 100 000\n",
    "                       iter_max = 1, # one episode, we don't need to use episodes here\n",
    "                       policyRandomness = 1, # full random\n",
    "                       policyEnvironmentAwareness = True,\n",
    "                       environmentEnvironmentAwareness = True,\n",
    "                       environmentRandomness = 0.2,\n",
    "                       plotTitle='Vanilla Q Learning - random policy')\n",
    "\n",
    "print(q_table)"
   ]
  },
  {
   "cell_type": "code",
   "execution_count": null,
   "metadata": {},
   "outputs": [],
   "source": [
    "q_table = vanilla_Q_learning(livePlot=True,\n",
    "                       initial_lr = 1.0,\n",
    "                       min_lr = 0.003,\n",
    "                       gamma = 0.8,\n",
    "                       t_max = 1000000, # one million iterations instead of 100 000\n",
    "                       iter_max = 1, # one episode, we don't need to use episodes here\n",
    "                       policyRandomness = 0, # full greedy\n",
    "                       policyEnvironmentAwareness = True,\n",
    "                       environmentEnvironmentAwareness = True,\n",
    "                       environmentRandomness = 0.2,\n",
    "                       seed=1,\n",
    "                       plotTitle='Vanilla Q Learning - greedy policy')\n",
    "\n",
    "print(q_table)"
   ]
  },
  {
   "cell_type": "code",
   "execution_count": null,
   "metadata": {},
   "outputs": [],
   "source": []
  }
 ],
 "metadata": {
  "kernelspec": {
   "display_name": "Python 3",
   "language": "python",
   "name": "python3"
  },
  "language_info": {
   "codemirror_mode": {
    "name": "ipython",
    "version": 3
   },
   "file_extension": ".py",
   "mimetype": "text/x-python",
   "name": "python",
   "nbconvert_exporter": "python",
   "pygments_lexer": "ipython3",
   "version": "3.7.1"
  }
 },
 "nbformat": 4,
 "nbformat_minor": 2
}
