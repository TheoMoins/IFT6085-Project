{
 "cells": [
  {
   "cell_type": "code",
   "execution_count": 1,
   "metadata": {},
   "outputs": [],
   "source": [
    "import numpy as np\n",
    "import random\n",
    "from numpy.linalg import inv\n",
    "from numpy.linalg import pinv\n",
    "import matplotlib.pyplot as plt\n",
    "\n",
    "import torch\n",
    "\n",
    "import copy\n",
    "import random"
   ]
  },
  {
   "cell_type": "code",
   "execution_count": 2,
   "metadata": {},
   "outputs": [],
   "source": [
    "# This part of the code implements live plotting:\n",
    "\n",
    "from IPython.display import clear_output\n",
    "from matplotlib import pyplot as plt\n",
    "import collections\n",
    "%matplotlib inline\n",
    "\n",
    "def live_plot(data_dict, title, ylabel=None, xlabel=None, figsize=(7,5)):\n",
    "    clear_output(wait=True)\n",
    "    plt.figure(figsize=figsize)\n",
    "    for label,data in data_dict.items():\n",
    "        plt.plot(data, label=label)\n",
    "    plt.title(title)\n",
    "    plt.grid(True)\n",
    "    plt.xlabel(xlabel)\n",
    "    plt.ylabel(ylabel)\n",
    "    plt.legend()\n",
    "    plt.show();"
   ]
  },
  {
   "cell_type": "code",
   "execution_count": 3,
   "metadata": {},
   "outputs": [],
   "source": [
    "# defining the graph (weighted with rewards):\n",
    "\n",
    "R = torch.IntTensor([[0,-100,-100,-100,-5,-100],\n",
    "                  [-100,0,-100,-5,-100,100],\n",
    "                  [-100,-100,0,-5,-100,-100],\n",
    "                  [-100,-5,-5,0,-5,-100],\n",
    "                  [-5,-100,-100,-5,0,100],\n",
    "                  [-100,-5,-100,-100,-5,100]])\n",
    "\n",
    "NumbertoSAPair = torch.IntTensor([[0, 0],[0,4],[1,1],[1,3],[1,5],\n",
    "                               [2,2],[2,3],[3,1],[3,2],[3,3],\n",
    "                               [3,4],[4,0],[4,3],[4,4],[4,5],\n",
    "                               [5,1],[5,4],[5,5]])\n",
    "\n",
    "AlenVec = torch.IntTensor([2,3,2,4,4,3])\n",
    "\n",
    "# Inverse mapping: Given state-action pair, what is the curresponding number:\n",
    "SAPairtoNumber = -1*torch.ones((6,6))\n",
    "\n",
    "for i in range(len(NumbertoSAPair)):\n",
    "    i1 = NumbertoSAPair[i,0].item()\n",
    "    i2 = NumbertoSAPair[i,1].item()\n",
    "    SAPairtoNumber[i1,i2]=i\n",
    "    \n",
    "StaActLen = torch.sum(AlenVec).item(); # Total number of state action pairs"
   ]
  },
  {
   "cell_type": "code",
   "execution_count": 4,
   "metadata": {},
   "outputs": [],
   "source": [
    "def compute_Bellman_error(q_table, beta, noise):\n",
    "\n",
    "    #Initialize Bellman error to 0:\n",
    "    BE = torch.zeros(StaActLen) # initialiser BE_Zap avec des 0\n",
    "    \n",
    "    for jj in range(StaActLen): # pour tous les state-action possibles\n",
    "\n",
    "        x = NumbertoSAPair[jj,0] # x = state\n",
    "        a = NumbertoSAPair[jj,1] # a = action\n",
    "\n",
    "        # Calculate E[max_u Q(X_{t+1},u) | X_t=x, A_t = a]:\n",
    "        max_Qfun_xtp1_Zap = 0; # max_Qfun_xtp1_Zap initialisé à 0\n",
    "        NumOfXtp1 = 0; # NumOfXtp1 initialisé à 0\n",
    "        for ll in range(StaActLen): # pour tous les state-action possibles l\n",
    "            if(NumbertoSAPair[ll,0] == x): # si l part de x\n",
    "                xplus1 = NumbertoSAPair[ll,1] # xplus1 prend action\n",
    "                max_Qfun_xtp1_Zap = max_Qfun_xtp1_Zap + torch.max(q_table[xplus1]) # max_Qfun_xtp1_Zap += max q_table à partir de action\n",
    "                NumOfXtp1 = NumOfXtp1 + 1 # NumOfXtp1++\n",
    "        max_Qfun_xtp1_Zap = max_Qfun_xtp1_Zap/NumOfXtp1 # max_Qfun_xtp1_Zap /= NumOfXtp1 (ie on prend l'average de toutes les greedy policies à partir de x)\n",
    "\n",
    "        # BE(x,a) = R(x,a) + beta*E[max_u Q(X_{t+1},u) | X_t=x, A_t = a] - Q(x,a)\n",
    "        BE[jj] = R[x,a] + beta*((1-noise)*torch.max(q_table[a]) +  noise*max_Qfun_xtp1_Zap) - q_table[x,a]\n",
    "\n",
    "    # MaximalBellmanError = max_{x,a} BE(x,a):  \n",
    "    return torch.max(abs(BE))"
   ]
  },
  {
   "cell_type": "code",
   "execution_count": 5,
   "metadata": {},
   "outputs": [],
   "source": [
    "import math\n",
    "\n",
    "def epsilon_greedy_policy(x, adjacencyMatrix, QTable, epsilon=0, environmentAwareness=False):\n",
    "    \"\"\"\n",
    "    Returns action a (:= next wanted step in this problem)\n",
    "    Takes greedy action with proba 1-epsilon\n",
    "    adjacencyMatrix is the weighted reward matrix with -100 where no edges\n",
    "    it will not be taken into account if environmentAwareness=False (then agent can choose -100 edges)\n",
    "    \"\"\"\n",
    "    r = np.random.rand()\n",
    "    if not environmentAwareness:\n",
    "        if r > epsilon:\n",
    "            return torch.argmax(QTable[x])\n",
    "        else:\n",
    "            return np.random.choice(range(QTable[x].shape[0]))\n",
    "    else:\n",
    "        if r > epsilon:\n",
    "            imax = -1\n",
    "            Qmax = -1 * math.inf\n",
    "            for i in range(QTable[x].shape[0]):\n",
    "                if adjacencyMatrix[x][i] > -100 and QTable[x][i] > Qmax:\n",
    "                    imax = i\n",
    "                    Qmax = QTable[x][i]\n",
    "            assert imax > -1, \"Error : no possible action\"\n",
    "            return imax\n",
    "        \n",
    "        else:\n",
    "            available = []\n",
    "            for i in range(adjacencyMatrix[x].shape[0]):\n",
    "                if adjacencyMatrix[x][i] > -100:\n",
    "                    available.append(i)\n",
    "            assert not len(available) == 0, \"Error : no possible action\"\n",
    "            return np.random.choice(available)"
   ]
  },
  {
   "cell_type": "code",
   "execution_count": 6,
   "metadata": {},
   "outputs": [],
   "source": [
    "def take_action(x, a, adjacencyMatrix, environmentAwareness=True, randomness=0.5):\n",
    "    \"\"\"\n",
    "    Environment response to the action a from state x, returns: newState, reward\n",
    "    when environmentAwareness=True, only possible actions will be randomly taken in case of random failure\n",
    "    \"\"\"\n",
    "    r = np.random.rand()\n",
    "    if not environmentAwareness:\n",
    "        if r > randomness:\n",
    "            return a, adjacencyMatrix[x][a]\n",
    "        else:\n",
    "            aa = np.random.choice(range(adjacencyMatrix[x].shape[0]))\n",
    "            return aa, adjacencyMatrix[x][aa]\n",
    "    else:\n",
    "        available = []\n",
    "        for i in range(adjacencyMatrix[x].shape[0]):\n",
    "            if adjacencyMatrix[x][i] > -100:\n",
    "                available.append(i)\n",
    "        assert not len(available) == 0, \"Error : no possible action\"\n",
    "        if r > randomness:\n",
    "            assert a in available, \"Error : the action in not possible\"\n",
    "            return a, adjacencyMatrix[x][a]\n",
    "        else:\n",
    "            aa = np.random.choice(available)\n",
    "            return aa, adjacencyMatrix[x][aa]"
   ]
  },
  {
   "cell_type": "code",
   "execution_count": 7,
   "metadata": {},
   "outputs": [],
   "source": [
    "# tests\n",
    "\n",
    "#print(take_action(1, 5, R, environmentAwareness=False, randomness=0))\n",
    "#print(take_action(1, 5, R, environmentAwareness=False, randomness=1))\n",
    "#print(take_action(1, 1, R, environmentAwareness=True, randomness=0))\n",
    "#print(take_action(1, 0, R, environmentAwareness=True, randomness=1))\n",
    "\n",
    "#x = 1\n",
    "#a = epsilon_greedy_policy(x, R, QTable, epsilon=1, environmentAwareness=True)\n",
    "#print(a)\n",
    "#print(take_action(x, a, R, environmentAwareness=True, randomness=0))"
   ]
  },
  {
   "cell_type": "code",
   "execution_count": 16,
   "metadata": {},
   "outputs": [],
   "source": [
    "# Zap Q algorithm:\n",
    "def Zap_Q(xStart = 4, # start state\n",
    "          beta = 0.8, # Discount factor\n",
    "          rho = 0.85, # Stepsize \\gamma_n = (1/n)^\\rhot_step=1000\n",
    "          policyEnvironmentAwareness=True, # policy won't take impossible actions if True\n",
    "          environmentEnvironmentAwareness=True, # environment will only return possible actions in case of failure if True\n",
    "          policyRandomness=1,\n",
    "          environmentRandomness=0.2,\n",
    "          T=100000, # Number of iterations for learning (number of data samples we observe)\n",
    "          t_step=1000, #This is how often I want to store the data (Bellman error)\n",
    "          livePlot=True,\n",
    "          plotTitle=None):\n",
    "    \"\"\"\n",
    "    /!\\: Not self-contained, will only work with R for now\n",
    "    Plots every t_step iteration, on the go if livePlot=True (alterates wall-clock performance)\n",
    "    policyRandomness : epsilon of epsilon greedy policy\n",
    "    environmentRandomness : noise of environment (proba of going to a random state)\n",
    "    \"\"\"\n",
    "    \n",
    "    dataplot = collections.defaultdict(list) # history of Bellman Errors to plot\n",
    "    xt = xStart; # start in state 0\n",
    "    noise = environmentRandomness\n",
    "    R = torch.IntTensor([[0,-100,-100,-100,-5,-100],\n",
    "                      [-100,0,-100,-5,-100,100],\n",
    "                      [-100,-100,0,-5,-100,-100],\n",
    "                      [-100,-5,-5,0,-5,-100],\n",
    "                      [-5,-100,-100,-5,0,100],\n",
    "                      [-100,-5,-100,-100,-5,100]])\n",
    "\n",
    "    NumbertoSAPair = torch.IntTensor([[0, 0],[0,4],[1,1],[1,3],[1,5],\n",
    "                                   [2,2],[2,3],[3,1],[3,2],[3,3],\n",
    "                                   [3,4],[4,0],[4,3],[4,4],[4,5],\n",
    "                                   [5,1],[5,4],[5,5]])\n",
    "\n",
    "    AlenVec = torch.IntTensor([2,3,2,4,4,3])\n",
    "\n",
    "    # Inverse mapping: Given state-action pair, what is the curresponding number:\n",
    "    SAPairtoNumber = -1*torch.ones((6,6))\n",
    "\n",
    "    for i in range(len(NumbertoSAPair)):\n",
    "        i1 = NumbertoSAPair[i,0].item()\n",
    "        i2 = NumbertoSAPair[i,1].item()\n",
    "        SAPairtoNumber[i1,i2]=i\n",
    "\n",
    "    StaActLen = torch.sum(AlenVec).item(); # Total number of state action pairs\n",
    "\n",
    "    # Initialize the Matrix gain for Zap Q:\n",
    "    A_ZapQ = 10*torch.eye(StaActLen)\n",
    "\n",
    "    # Initialize the parameter vector for Zap Q:\n",
    "    Qthetat_ZapQ = torch.rand(StaActLen);\n",
    "\n",
    "    # Initialize the Q function for Zap Q:\n",
    "    Qfun_ZapQ = torch.zeros((6,6))\n",
    "\n",
    "    # Q-learning begins here:\n",
    "\n",
    "    for t in range(T):\n",
    "        \n",
    "        if policyRandomness < 0:\n",
    "            epsilon = 1./(t+1)\n",
    "        else:\n",
    "            epsilon = policyRandomness\n",
    "        # ChooseAction will return the random action chosen in the current state AND the next state\n",
    "        #xtp1at_m = ChooseAction(xt,noise,Qfun_ZapQ)\n",
    "        at = epsilon_greedy_policy(xt,\n",
    "                                   R,\n",
    "                                   Qfun_ZapQ,\n",
    "                                   epsilon=epsilon,\n",
    "                                   environmentAwareness=policyEnvironmentAwareness)\n",
    "        xtp1, _ = take_action(xt,\n",
    "                              at,\n",
    "                              R,\n",
    "                              environmentAwareness=environmentEnvironmentAwareness,\n",
    "                              randomness=environmentRandomness)\n",
    "        #print(at)\n",
    "        #print(xtp1)\n",
    "        #break\n",
    "\n",
    "        # Defining the stepsizes:\n",
    "        alphat = 1./(t+2); # stepsize for parameter recursion\n",
    "        gammat = np.power((t+1),-rho) # stepsize for matrix gain recursion\n",
    "\n",
    "        num_sa_pair = int(SAPairtoNumber[xt][at]) # Mapping [S A] -> the curresponding number\n",
    "\n",
    "        # Watkins' basis: Column vector with 1 at (x,a) and 0 elsewhere:\n",
    "        psixtat = torch.zeros(StaActLen)\n",
    "        psixtat[num_sa_pair] = 1; # Basis are indicator functions\n",
    "\n",
    "        # Watkins' basis evaluated at next state and the optimal policy:\n",
    "        # Step 1: It takes values 1 at state-action pairs corresponding to xtp1, and all feasible actions\n",
    "        psixtp1 = torch.zeros(StaActLen)\n",
    "        for jj in range(6):\n",
    "            if SAPairtoNumber[xtp1,jj]>=0: # Is the action feasible?\n",
    "                psixtp1[int(SAPairtoNumber[xtp1,jj])] = 1 # Take value 1\n",
    "\n",
    "\n",
    "        # Zap Q-learning step:\n",
    "\n",
    "        # Q(X_t,A_t):\n",
    "        Qxt_Zap = torch.dot(Qthetat_ZapQ,psixtat)\n",
    "\n",
    "        # Q(X_t+1,a) with all feasible a's; Need to take minimum over all 'a' later:\n",
    "        Qxtp1_Zap = torch.mul(Qthetat_ZapQ,psixtp1)\n",
    "\n",
    "        # Optimal action for state xtp1, given the current parameter estimate:\n",
    "        OptAct_xtp1 = torch.argmax(Qxtp1_Zap)\n",
    "        # Q-value at xtp1 and the optimal action:\n",
    "        max_Qxtp1_Zap = torch.max(Qxtp1_Zap)\n",
    "        # max_Qxtp1_Zap = Qxtp1_Zap[OptAct_xtp1]\n",
    "\n",
    "        # Basis function evaluated at xtp1 and the corresponding optimal action\n",
    "        psixtp1_OptAct = torch.zeros(StaActLen);\n",
    "        psixtp1_OptAct[OptAct_xtp1] = 1;\n",
    "\n",
    "        # Zap Q-learning begins here:\n",
    "\n",
    "        # Estimating the A(\\theta_t) matrix:\n",
    "        A_ZapQ = A_ZapQ + gammat*( ( - torch.ger(psixtat,psixtat) + beta*torch.ger(psixtat,psixtp1_OptAct)) - A_ZapQ)\n",
    "        Ainv_ZapQ = torch.Tensor(np.linalg.pinv(A_ZapQ.numpy()))\n",
    "\n",
    "        # Q update for SNR 2 (a) gain:\n",
    "\n",
    "        Qthetat_ZapQ  =  Qthetat_ZapQ  - alphat*(Ainv_ZapQ @ psixtat)*((R[xt,at] + beta*max_Qxtp1_Zap - Qxt_Zap))\n",
    "\n",
    "        # Zap Q-learning ends here\n",
    "\n",
    "\n",
    "\n",
    "        xt = xtp1;\n",
    "\n",
    "        # The code from here is to calculate the Bellman error at this iteration\n",
    "\n",
    "        if((t%t_step)==0):\n",
    "            for jj in range(StaActLen):\n",
    "                Qfun_ZapQ[NumbertoSAPair[jj,0],NumbertoSAPair[jj,1]] = Qthetat_ZapQ[jj]\n",
    "            # MaximalBellmanError = max_{x,a} BE(x,a):  \n",
    "            dataplot['Zap_Q'].append(compute_Bellman_error(Qfun_ZapQ, beta, noise))\n",
    "            if livePlot:\n",
    "                live_plot(dataplot, title=plotTitle, ylabel='Bellman error', xlabel='t')\n",
    "\n",
    "            # End of calculating Bellman Error\n",
    "    if not livePlot:\n",
    "        live_plot(dataplot, title=plotTitle, ylabel='Bellman error', xlabel='t')\n",
    "    return Qfun_ZapQ"
   ]
  },
  {
   "cell_type": "code",
   "execution_count": 17,
   "metadata": {},
   "outputs": [
    {
     "data": {
      "image/png": "[encoded data removed]",
      "text/plain": [
       "<Figure size 504x360 with 1 Axes>"
      ]
     },
     "metadata": {
      "needs_background": "light"
     },
     "output_type": "display_data"
    },
    {
     "name": "stdout",
     "output_type": "stream",
     "text": [
      "tensor([[309.4091,   0.0000,   0.0000,   0.0000, 375.9249,   0.0000],\n",
      "        [  0.0000, 385.6768,   0.0000, 306.1815,   0.0000, 489.4679],\n",
      "        [  0.0000,   0.0000, 235.8254, 286.7812,   0.0000,   0.0000],\n",
      "        [  0.0000, 373.3866, 244.6766, 304.4998, 372.1971,   0.0000],\n",
      "        [305.0235,   0.0000,   0.0000, 302.8701, 380.8233, 487.0622],\n",
      "        [  0.0000, 386.7536,   0.0000,   0.0000, 385.2381, 495.8042]])\n"
     ]
    }
   ],
   "source": [
    "Q = Zap_Q(xStart = 4, # start state\n",
    "          beta = 0.8, # Discount factor\n",
    "          rho = 0.85, # Stepsize \\gamma_n = (1/n)^\\rhot_step=1000\n",
    "          policyEnvironmentAwareness=True, # policy won't take impossible actions if True\n",
    "          environmentEnvironmentAwareness=True, # environment will only return possible actions in case of failure if True\n",
    "          policyRandomness=1,\n",
    "          environmentRandomness=0.2,\n",
    "          T=100000, # Number of iterations for learning (number of data samples we observe)\n",
    "          t_step=1000, #This is how often I want to store the data (Bellman error)\n",
    "          livePlot=True,\n",
    "          plotTitle='Zap-Q with fully randomized policy')\n",
    "\n",
    "print(Q)"
   ]
  },
  {
   "cell_type": "code",
   "execution_count": 18,
   "metadata": {},
   "outputs": [
    {
     "data": {
      "image/png": "[encoded data removed]",
      "text/plain": [
       "<Figure size 504x360 with 1 Axes>"
      ]
     },
     "metadata": {
      "needs_background": "light"
     },
     "output_type": "display_data"
    },
    {
     "name": "stdout",
     "output_type": "stream",
     "text": [
      "tensor([[309.4462,   0.0000,   0.0000,   0.0000, 374.1792,   0.0000],\n",
      "        [  0.0000, 385.7775,   0.0000, 305.8112,   0.0000, 489.1329],\n",
      "        [  0.0000,   0.0000, 238.6527, 287.1372,   0.0000,   0.0000],\n",
      "        [  0.0000, 373.2455, 243.5658, 306.8140, 371.0685,   0.0000],\n",
      "        [302.3359,   0.0000,   0.0000, 302.8920, 378.6238, 486.1281],\n",
      "        [  0.0000, 386.4833,   0.0000,   0.0000, 384.5334, 495.5979]])\n"
     ]
    }
   ],
   "source": [
    "Q = Zap_Q(xStart = 4, # start state\n",
    "          beta = 0.8, # Discount factor\n",
    "          rho = 0.85, # Stepsize \\gamma_n = (1/n)^\\rhot_step=1000\n",
    "          policyEnvironmentAwareness=True, # policy won't take impossible actions if True\n",
    "          environmentEnvironmentAwareness=True, # environment will only return possible actions in case of failure if True\n",
    "          policyRandomness=0.5,\n",
    "          environmentRandomness=0.2,\n",
    "          T=100000, # Number of iterations for learning (number of data samples we observe)\n",
    "          t_step=1000, #This is how often I want to store the data (Bellman error)\n",
    "          livePlot=True,\n",
    "          plotTitle='Zap-Q with 0.5-greedy policy')\n",
    "\n",
    "print(Q)"
   ]
  },
  {
   "cell_type": "code",
   "execution_count": 19,
   "metadata": {},
   "outputs": [
    {
     "data": {
      "image/png": "[encoded data removed]",
      "text/plain": [
       "<Figure size 504x360 with 1 Axes>"
      ]
     },
     "metadata": {
      "needs_background": "light"
     },
     "output_type": "display_data"
    },
    {
     "name": "stdout",
     "output_type": "stream",
     "text": [
      "tensor([[314.6596,   0.0000,   0.0000,   0.0000, 371.8127,   0.0000],\n",
      "        [  0.0000, 381.5897,   0.0000, 308.3121,   0.0000, 485.6226],\n",
      "        [  0.0000,   0.0000, 231.8819, 285.8874,   0.0000,   0.0000],\n",
      "        [  0.0000, 370.2529, 255.6479, 306.5657, 371.5236,   0.0000],\n",
      "        [299.6426,   0.0000,   0.0000, 299.8482, 377.0756, 482.7563],\n",
      "        [  0.0000, 383.5199,   0.0000,   0.0000, 381.8503, 492.4697]])\n"
     ]
    }
   ],
   "source": [
    "Q = Zap_Q(xStart = 4, # start state\n",
    "          beta = 0.8, # Discount factor\n",
    "          rho = 0.85, # Stepsize \\gamma_n = (1/n)^\\rhot_step=1000\n",
    "          policyEnvironmentAwareness=True, # policy won't take impossible actions if True\n",
    "          environmentEnvironmentAwareness=True, # environment will only return possible actions in case of failure if True\n",
    "          policyRandomness=0.1,\n",
    "          environmentRandomness=0.2,\n",
    "          T=100000, # Number of iterations for learning (number of data samples we observe)\n",
    "          t_step=1000, #This is how often I want to store the data (Bellman error)\n",
    "          livePlot=True,\n",
    "          plotTitle='Zap-Q with 0.9-greedy policy')\n",
    "\n",
    "print(Q)"
   ]
  },
  {
   "cell_type": "code",
   "execution_count": 20,
   "metadata": {},
   "outputs": [
    {
     "data": {
      "image/png": "[encoded data removed]",
      "text/plain": [
       "<Figure size 504x360 with 1 Axes>"
      ]
     },
     "metadata": {
      "needs_background": "light"
     },
     "output_type": "display_data"
    },
    {
     "name": "stdout",
     "output_type": "stream",
     "text": [
      "tensor([[ 1.8228e-01,  0.0000e+00,  0.0000e+00,  0.0000e+00,  3.1899e+01,\n",
      "          0.0000e+00],\n",
      "        [ 0.0000e+00,  7.6301e-01,  0.0000e+00,  1.9420e+01,  0.0000e+00,\n",
      "          2.5691e-01],\n",
      "        [ 0.0000e+00,  0.0000e+00, -3.3828e-01,  1.4298e+00,  0.0000e+00,\n",
      "          0.0000e+00],\n",
      "        [ 0.0000e+00,  2.2474e-01,  1.2038e-01,  8.8184e+00,  3.4870e-01,\n",
      "          0.0000e+00],\n",
      "        [ 2.3305e+01,  0.0000e+00,  0.0000e+00,  6.4719e-01,  4.7504e+01,\n",
      "          7.8124e-01],\n",
      "        [ 0.0000e+00,  1.7786e-01,  0.0000e+00,  0.0000e+00,  2.2339e-01,\n",
      "          3.3538e+02]])\n"
     ]
    }
   ],
   "source": [
    "Q = Zap_Q(xStart = 4, # start state\n",
    "          beta = 0.8, # Discount factor\n",
    "          rho = 0.85, # Stepsize \\gamma_n = (1/n)^\\rhot_step=1000\n",
    "          policyEnvironmentAwareness=True, # policy won't take impossible actions if True\n",
    "          environmentEnvironmentAwareness=True, # environment will only return possible actions in case of failure if True\n",
    "          policyRandomness=0,\n",
    "          environmentRandomness=0.2,\n",
    "          T=100000, # Number of iterations for learning (number of data samples we observe)\n",
    "          t_step=1000, #This is how often I want to store the data (Bellman error)\n",
    "          livePlot=True,\n",
    "          plotTitle='Zap-Q with full greedy policy')\n",
    "\n",
    "print(Q)"
   ]
  },
  {
   "cell_type": "code",
   "execution_count": 21,
   "metadata": {},
   "outputs": [
    {
     "data": {
      "image/png": "[encoded data removed]",
      "text/plain": [
       "<Figure size 504x360 with 1 Axes>"
      ]
     },
     "metadata": {
      "needs_background": "light"
     },
     "output_type": "display_data"
    },
    {
     "name": "stdout",
     "output_type": "stream",
     "text": [
      "tensor([[  0.4284,   0.0000,   0.0000,   0.0000,  -6.2009,   0.0000],\n",
      "        [  0.0000,   0.6329,   0.0000,   0.3396,   0.0000, 108.9498],\n",
      "        [  0.0000,   0.0000,   4.2530,   1.5128,   0.0000,   0.0000],\n",
      "        [  0.0000,  -0.6091,  -1.7103,  14.5765,  -1.4616,   0.0000],\n",
      "        [ -7.4361,   0.0000,   0.0000,  -2.6261,   2.1690, -18.5756],\n",
      "        [  0.0000,   0.8084,   0.0000,   0.0000,   3.2264, -19.0502]])\n"
     ]
    }
   ],
   "source": [
    "Q = Zap_Q(xStart = 4, # start state\n",
    "          beta = 0.8, # Discount factor\n",
    "          rho = 0.85, # Stepsize \\gamma_n = (1/n)^\\rhot_step=1000\n",
    "          policyEnvironmentAwareness=True, # policy won't take impossible actions if True\n",
    "          environmentEnvironmentAwareness=True, # environment will only return possible actions in case of failure if True\n",
    "          policyRandomness=-1,\n",
    "          environmentRandomness=0.2,\n",
    "          T=100000, # Number of iterations for learning (number of data samples we observe)\n",
    "          t_step=1000, #This is how often I want to store the data (Bellman error)\n",
    "          livePlot=True,\n",
    "          plotTitle='Zap-Q with 1/t greedy policy')\n",
    "\n",
    "print(Q)"
   ]
  },
  {
   "cell_type": "code",
   "execution_count": 22,
   "metadata": {},
   "outputs": [],
   "source": [
    "# vanilla Q learning :\n",
    "\n",
    "def vanilla_Q_learning(livePlot=True,\n",
    "                       initial_lr = 1.0,\n",
    "                       min_lr = 0.003,\n",
    "                       gamma = 0.8,\n",
    "                       t_max = 100000,\n",
    "                       iter_max = 10,\n",
    "                       policyRandomness = 0,\n",
    "                       policyEnvironmentAwareness = True,\n",
    "                       environmentEnvironmentAwareness = True,\n",
    "                       environmentRandomness = 0.2,\n",
    "                       seed=0,\n",
    "                       plotTitle=None):\n",
    "    np.random.seed(seed)\n",
    "    BE = np.zeros((6,6))\n",
    "    xt1 = 4\n",
    "    dataplot = collections.defaultdict(list)\n",
    "    #print ('----- using Q Learning -----')\n",
    "    q_table = np.zeros((6,6))\n",
    "    for i in range(iter_max):\n",
    "        obs = xt1\n",
    "        total_reward = 0\n",
    "        ## alpha: learning rate is decreased at each step\n",
    "        alpha = max(min_lr, initial_lr * (0.85 ** (i//100)))\n",
    "        for j in range(t_max):\n",
    "            xt0 = xt1\n",
    "            action = epsilon_greedy_policy(xt0,\n",
    "                                   R,\n",
    "                                   q_table,\n",
    "                                   epsilon=policyRandomness,\n",
    "                                   environmentAwareness=policyEnvironmentAwareness)\n",
    "            xt1, reward = take_action(xt0,\n",
    "                                  action,\n",
    "                                  R,\n",
    "                                  environmentAwareness=environmentEnvironmentAwareness,\n",
    "                                  randomness=environmentRandomness)\n",
    "            total_reward += (gamma ** j) * reward\n",
    "            # update q table\n",
    "            q_table[xt0][action] = q_table[xt0][action] + alpha * (reward + gamma *  np.max(q_table[xt1]) - q_table[xt0][action])\n",
    "        #print('Iteration #%d -- Total reward = %d.' %(i+1, total_reward))\n",
    "            if j%10000 == 0:\n",
    "                #print(compute_Bellman_error(q_table, gamma, environmentRandomness))\n",
    "                dataplot['Vanilla_Q'].append(compute_Bellman_error(q_table, gamma, environmentRandomness))\n",
    "                if livePlot:\n",
    "                    live_plot(dataplot, title=plotTitle, ylabel='Bellman error', xlabel='t')\n",
    "    #solution_policy = np.argmax(q_table, axis=1)\n",
    "    return q_table\n",
    "    #solution_policy_scores = [run_episode(env, solution_policy, False) for _ in range(100)]\n",
    "    #print(\"Average score of solution = \", np.mean(solution_policy_scores))\n",
    "    # Animate it\n",
    "    #run_episode(env, solution_policy, True)"
   ]
  },
  {
   "cell_type": "code",
   "execution_count": null,
   "metadata": {},
   "outputs": [],
   "source": [
    "q_table = vanilla_Q_learning(livePlot=True,\n",
    "                       initial_lr = 1.0,\n",
    "                       min_lr = 0.003,\n",
    "                       gamma = 0.8,\n",
    "                       t_max = 1000000, # one million iterations instead of 100 000\n",
    "                       iter_max = 1, # one episode, we don't need to use episodes here\n",
    "                       policyRandomness = 1, # full random\n",
    "                       policyEnvironmentAwareness = True,\n",
    "                       environmentEnvironmentAwareness = True,\n",
    "                       environmentRandomness = 0.2,\n",
    "                       plotTitle='Vanilla Q Learning - random policy')\n",
    "\n",
    "print(q_table)"
   ]
  },
  {
   "cell_type": "code",
   "execution_count": null,
   "metadata": {},
   "outputs": [],
   "source": [
    "q_table = vanilla_Q_learning(livePlot=True,\n",
    "                       initial_lr = 1.0,\n",
    "                       min_lr = 0.003,\n",
    "                       gamma = 0.8,\n",
    "                       t_max = 1000000, # one million iterations instead of 100 000\n",
    "                       iter_max = 1, # one episode, we don't need to use episodes here\n",
    "                       policyRandomness = 0, # full greedy\n",
    "                       policyEnvironmentAwareness = True,\n",
    "                       environmentEnvironmentAwareness = True,\n",
    "                       environmentRandomness = 0.2,\n",
    "                       seed=1,\n",
    "                       plotTitle='Vanilla Q Learning - greedy policy')\n",
    "\n",
    "print(q_table)"
   ]
  },
  {
   "cell_type": "code",
   "execution_count": null,
   "metadata": {},
   "outputs": [],
   "source": []
  }
 ],
 "metadata": {
  "kernelspec": {
   "display_name": "Python 3",
   "language": "python",
   "name": "python3"
  },
  "language_info": {
   "codemirror_mode": {
    "name": "ipython",
    "version": 3
   },
   "file_extension": ".py",
   "mimetype": "text/x-python",
   "name": "python",
   "nbconvert_exporter": "python",
   "pygments_lexer": "ipython3",
   "version": "3.7.1"
  }
 },
 "nbformat": 4,
 "nbformat_minor": 2
}
